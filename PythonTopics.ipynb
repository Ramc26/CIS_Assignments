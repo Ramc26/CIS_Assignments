{
 "cells": [
  {
   "cell_type": "code",
   "execution_count": 2,
   "id": "bef5a6e4",
   "metadata": {},
   "outputs": [
    {
     "name": "stdout",
     "output_type": "stream",
     "text": [
      "Hello, This is Ram Bikkina !\n",
      "Ram Bikkina\n"
     ]
    }
   ],
   "source": [
    "#Printing in python\n",
    "\n",
    "print(\"Hello, This is Ram Bikkina !\")\n"
   ]
  },
  {
   "cell_type": "code",
   "execution_count": 13,
   "id": "b17e3e9c",
   "metadata": {},
   "outputs": [
    {
     "name": "stdout",
     "output_type": "stream",
     "text": [
      "<class 'int'>\n",
      "<class 'str'>\n",
      "<class 'float'>\n",
      "<class 'dict'>\n",
      "orange 5\n"
     ]
    }
   ],
   "source": [
    "#Commenting in python\n",
    "\n",
    "##SingleLine\n",
    "\n",
    "\n",
    "#Datatype and Variables in Python\n",
    "\n",
    "#Declaration\n",
    "i=5 #int\n",
    "st=\"itsmeramc\" #string\n",
    "f=3.6 #float\n",
    "l=[\"ram\",\"bheem\",\"raj\"] #list\n",
    "d={\"name\":\"ram\",\"age\":24,\"weight\":80.6} #dict{key,value}\n",
    "se={\"ram\",\"bheem\",\"raj\"} #set\n",
    "\n",
    "#printing Type of datatype\n",
    "\n",
    "print(type(i))\n",
    "print(type(s))\n",
    "print(type(f))\n",
    "print(type(d))\n",
    "\n",
    "\n",
    "#Assigning Multiple at a time\n",
    "fruit,quantity=\"orange\",5\n",
    "\n",
    "print(fruit,quantity)"
   ]
  },
  {
   "cell_type": "code",
   "execution_count": 15,
   "id": "0a98c0f5",
   "metadata": {},
   "outputs": [
    {
     "name": "stdout",
     "output_type": "stream",
     "text": [
      "35.0 <class 'float'>\n",
      "35 <class 'str'>\n"
     ]
    }
   ],
   "source": [
    "#Type Casting - Changing type of variable\n",
    "\n",
    "name=\"ram\"\n",
    "age=35\n",
    "fAge=float(age)\n",
    "sAge=str(age)\n",
    "print(fAge,type(fAge))\n",
    "print(sAge,type(sAge))\n"
   ]
  },
  {
   "cell_type": "code",
   "execution_count": 35,
   "id": "83c49e40",
   "metadata": {},
   "outputs": [
    {
     "name": "stdout",
     "output_type": "stream",
     "text": [
      "Python is a high-level, general-purpose programming language. <class 'str'>\n",
      "n\n",
      "Python is \n",
      "level, general-purpose pr\n",
      "uppercasing:PYTHON IS A HIGH-LEVEL, GENERAL-PURPOSE PROGRAMMING LANGUAGE.\n",
      "Lower casing: python is a high-level, general-purpose programming language.\n",
      "Python is a high-level, general-purpose programming language.\n",
      "Python is a high-LeveL, generaL-purpose programming Language.\n",
      "['Python', 'is', 'a', 'high-level,', 'general-purpose', 'programming', 'language.']\n",
      "Hello This is Ramarao Bikkina\n"
     ]
    }
   ],
   "source": [
    "#Strings and Slicing\n",
    "sent=\"Python is a high-level, general-purpose programming language.\"\n",
    "print(sent,type(sent))\n",
    "\n",
    "#Slicing - it is a method of spliting data into parts using indexing\n",
    "#index starts from 0(not from 1)\n",
    "print(sent[5]) # prints 6th character - n = Indexing\n",
    "print(sent[0:10]) # it prints from 0th position to 9th position = Slicing\n",
    "print(sent[17:-19]) # it prints from 17th position to 19th position from back(since using -ve indexing) = Slicing\n",
    "\n",
    "\n",
    "print(\"uppercasing:\"+sent.upper()) #converts all charactes into UPPER-CASE\n",
    "print(\"Lower casing:\",sent.lower()) #converts all charactes into lower-case\n",
    "\n",
    "print(sent.strip(\"\")) #it removes any spaces from staring and ending of string\n",
    "print(sent.replace(\"l\",\"L\")) #it replaces all \"l\" with \"L\" in string\n",
    "print(sent.split(\" \")) #it splits whole string into parts using \" \"\n",
    "\n",
    "\n",
    "\n",
    "#Adding two Strings\n",
    "sen1=\" Ramarao Bikkina\"\n",
    "sen2=\"Hello This is\"\n",
    "print(sen2+sen1)"
   ]
  },
  {
   "cell_type": "code",
   "execution_count": 42,
   "id": "6778c088",
   "metadata": {},
   "outputs": [
    {
     "name": "stdout",
     "output_type": "stream",
     "text": [
      "False\n",
      "True\n",
      "True\n",
      "True\n",
      "True\n"
     ]
    }
   ],
   "source": [
    "#Boolean Operations\n",
    "\n",
    "print(\"Ram\" == \"ram\")\n",
    "print(9 == 9)\n",
    "print(36.0 < 37)\n",
    "\n",
    "\n",
    "print(bool(\"Ram\"))\n",
    "print(bool(15))\n",
    "\n",
    "\n"
   ]
  },
  {
   "cell_type": "code",
   "execution_count": 67,
   "id": "dc02baa5",
   "metadata": {},
   "outputs": [
    {
     "name": "stdout",
     "output_type": "stream",
     "text": [
      "Addition: 5 Substraction: -1 Multiplication: 6 Division: 0.6666666666666666 Modulus: 2 Floor Division: 0 Exponentiation: 8\n",
      "False\n",
      "True\n",
      "True\n",
      "False\n",
      "False\n",
      "True\n",
      "False\n",
      "True\n"
     ]
    }
   ],
   "source": [
    "#Python Operators\n",
    "a=2\n",
    "b=3\n",
    "#Arithmetic operators\n",
    "print(\"Addition:\",a+b,\"Substraction:\",a-b,\"Multiplication:\",a*b,\"Division:\",a/b,\"Modulus:\",a%b,\"Floor Division:\",a//b,\"Exponentiation:\",a**b)\n",
    "\n",
    "#Comparision Operator\n",
    "x,y=5,7\n",
    "print(x==y) #x is equal to y\n",
    "print(x!=y) #x is not equal to y\n",
    "print(x<y) #x is lessthan y\n",
    "print(x>y) #x is graterthan y\n",
    "print(x>=y) #x is graterthan or equals to y\n",
    "print(x<=y) #x is lessthan or equals to y\n",
    "\n",
    "\n",
    "#Python Logical Operators\n",
    "print(x>4 and y<6) # both should be true then true, you can use & insted of and\n",
    "print(x>4 or y<6) #atleast one should be true then true, you can use | insted of or"
   ]
  },
  {
   "cell_type": "code",
   "execution_count": 74,
   "id": "08b4c745",
   "metadata": {},
   "outputs": [
    {
     "name": "stdout",
     "output_type": "stream",
     "text": [
      "4\n",
      "Bheem\n",
      "['Bheem', 'Raj']\n",
      "['Ram', 'Bheem', 'Raj', 'Seetha']\n"
     ]
    }
   ],
   "source": [
    "#Python Lists\n",
    "myList = [\"Ram\",\"Bheem\",\"Raj\",\"Akthar\"]\n",
    "print(len(myList))#tells no.of items in list\n",
    "\n",
    "print(myList[1]) #gives item at 1st index\n",
    "print(myList[1:3]) #gives item at 1st to 2nd index\n",
    "\n",
    "\n",
    "myList[3]=\"Seetha\" # it updates Seetha at 3rd index(in 4th position)\n",
    "print(myList)"
   ]
  },
  {
   "cell_type": "code",
   "execution_count": 75,
   "id": "aceefa0c",
   "metadata": {},
   "outputs": [
    {
     "name": "stdout",
     "output_type": "stream",
     "text": [
      "1\n",
      "(2, 3, 4)\n"
     ]
    }
   ],
   "source": [
    "# Creating a tuple\n",
    "my_tuple = (1, 2, 3, 4, 5)\n",
    "\n",
    "# Accessing elements\n",
    "print(my_tuple[0])     # Indexing\n",
    "print(my_tuple[1:4])   # Slicing\n",
    "\n",
    "# Tuples are immutable, so you can't update or remove elements directly"
   ]
  },
  {
   "cell_type": "code",
   "execution_count": 76,
   "id": "25f860e8",
   "metadata": {},
   "outputs": [
    {
     "name": "stdout",
     "output_type": "stream",
     "text": [
      "{1, 2, 3, 4, 5, 6}\n",
      "{1, 2, 4, 5, 6}\n"
     ]
    }
   ],
   "source": [
    "# Creating a set\n",
    "my_set = {1, 2, 3, 4, 5}\n",
    "\n",
    "# Accessing elements\n",
    "# Sets are unordered, so there is no indexing or slicing\n",
    "\n",
    "# Updating elements\n",
    "my_set.add(6)\n",
    "print(my_set)\n",
    "\n",
    "# Removing elements\n",
    "my_set.remove(3)\n",
    "print(my_set)\n"
   ]
  },
  {
   "cell_type": "code",
   "execution_count": 77,
   "id": "d7851613",
   "metadata": {},
   "outputs": [
    {
     "name": "stdout",
     "output_type": "stream",
     "text": [
      "John\n",
      "{'name': 'John', 'age': 31, 'city': 'New York'}\n",
      "{'name': 'John', 'age': 31}\n"
     ]
    }
   ],
   "source": [
    "# Creating a dictionary\n",
    "my_dict = {'name': 'John', 'age': 30, 'city': 'New York'}\n",
    "\n",
    "# Accessing values\n",
    "print(my_dict['name'])   # Indexing\n",
    "\n",
    "# Updating values\n",
    "my_dict['age'] = 31\n",
    "print(my_dict)\n",
    "\n",
    "# Removing key-value pairs\n",
    "del my_dict['city']\n",
    "print(my_dict)\n"
   ]
  },
  {
   "cell_type": "code",
   "execution_count": 78,
   "id": "ea4e5256",
   "metadata": {},
   "outputs": [
    {
     "name": "stdout",
     "output_type": "stream",
     "text": [
      "apple\n",
      "banana\n",
      "cherry\n",
      "1\n",
      "2\n",
      "3\n",
      "4\n",
      "5\n",
      "H\n",
      "e\n",
      "l\n",
      "l\n",
      "o\n"
     ]
    }
   ],
   "source": [
    "# Iterating over a list\n",
    "fruits = [\"apple\", \"banana\", \"cherry\"]\n",
    "for fruit in fruits:\n",
    "    print(fruit)\n",
    "\n",
    "# Iterating over a range of numbers\n",
    "for num in range(1, 6):\n",
    "    print(num)\n",
    "\n",
    "# Iterating over a string\n",
    "for char in \"Hello\":\n",
    "    print(char)\n"
   ]
  },
  {
   "cell_type": "code",
   "execution_count": 79,
   "id": "78fbd15b",
   "metadata": {},
   "outputs": [
    {
     "name": "stdout",
     "output_type": "stream",
     "text": [
      "10\n",
      "9\n",
      "8\n",
      "7\n",
      "6\n",
      "5\n",
      "4\n",
      "3\n",
      "2\n",
      "1\n",
      "Sum: 105\n"
     ]
    }
   ],
   "source": [
    "# Counting down from 10 to 1\n",
    "count = 10\n",
    "while count > 0:\n",
    "    print(count)\n",
    "    count -= 1\n",
    "\n",
    "# Summing numbers until a certain condition is met\n",
    "total = 0\n",
    "number = 1\n",
    "while total < 100:\n",
    "    total += number\n",
    "    number += 1\n",
    "print(\"Sum:\", total)\n"
   ]
  },
  {
   "cell_type": "code",
   "execution_count": 80,
   "id": "576b9eaa",
   "metadata": {},
   "outputs": [
    {
     "name": "stdout",
     "output_type": "stream",
     "text": [
      "Enter a number: 45\n",
      "Positive\n",
      "Enter your age: 24\n",
      "You are eligible to vote!\n"
     ]
    }
   ],
   "source": [
    "# Checking if a number is positive, negative, or zero\n",
    "num = int(input(\"Enter a number: \"))\n",
    "if num > 0:\n",
    "    print(\"Positive\")\n",
    "elif num < 0:\n",
    "    print(\"Negative\")\n",
    "else:\n",
    "    print(\"Zero\")\n",
    "\n",
    "# Checking if a person is eligible to vote\n",
    "age = int(input(\"Enter your age: \"))\n",
    "if age >= 18:\n",
    "    print(\"You are eligible to vote!\")\n",
    "else:\n",
    "    print(\"You are not eligible to vote yet.\")\n"
   ]
  },
  {
   "cell_type": "code",
   "execution_count": 85,
   "id": "1d233f22",
   "metadata": {},
   "outputs": [
    {
     "name": "stdout",
     "output_type": "stream",
     "text": [
      "Hello, there!\n",
      "Hello, John\n",
      "Hello, Alice\n"
     ]
    }
   ],
   "source": [
    "#Python Functions\n",
    "def greet():\n",
    "    print(\"Hello, there!\")\n",
    "\n",
    "greet()  # Call the function\n",
    "\n",
    "\n",
    "\n",
    "def greet(name):\n",
    "    print(\"Hello,\", name)\n",
    "\n",
    "greet(\"John\")   # Passing a value for the 'name' parameter\n",
    "greet(\"Alice\")  # Passing a different value for the 'name' parameter\n"
   ]
  },
  {
   "cell_type": "code",
   "execution_count": null,
   "id": "7537e0d7",
   "metadata": {},
   "outputs": [],
   "source": []
  }
 ],
 "metadata": {
  "kernelspec": {
   "display_name": "Python 3 (ipykernel)",
   "language": "python",
   "name": "python3"
  },
  "language_info": {
   "codemirror_mode": {
    "name": "ipython",
    "version": 3
   },
   "file_extension": ".py",
   "mimetype": "text/x-python",
   "name": "python",
   "nbconvert_exporter": "python",
   "pygments_lexer": "ipython3",
   "version": "3.9.12"
  }
 },
 "nbformat": 4,
 "nbformat_minor": 5
}
