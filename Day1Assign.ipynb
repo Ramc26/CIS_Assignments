{
 "cells": [
  {
   "cell_type": "code",
   "execution_count": 9,
   "id": "76c910fc",
   "metadata": {},
   "outputs": [
    {
     "name": "stdout",
     "output_type": "stream",
     "text": [
      "Ram Bikkina\n",
      "Dinesh pulluru\n",
      "Sai Pochampally\n",
      "Vijay Mula\n",
      "Vishwa Bollepally\n"
     ]
    }
   ],
   "source": [
    "fnames=['Ram','Dinesh','Sai','Vijay','Vishwa']\n",
    "lnames=['Bikkina','pulluru','Pochampally','Mula','Bollepally']\n",
    "\n",
    "for name in range(len(fnames)):\n",
    "    print(f\"{fnames[name]} {lnames[name]}\")"
   ]
  },
  {
   "cell_type": "code",
   "execution_count": null,
   "id": "94ee0eb7",
   "metadata": {},
   "outputs": [],
   "source": []
  }
 ],
 "metadata": {
  "kernelspec": {
   "display_name": "Python 3 (ipykernel)",
   "language": "python",
   "name": "python3"
  },
  "language_info": {
   "codemirror_mode": {
    "name": "ipython",
    "version": 3
   },
   "file_extension": ".py",
   "mimetype": "text/x-python",
   "name": "python",
   "nbconvert_exporter": "python",
   "pygments_lexer": "ipython3",
   "version": "3.9.12"
  }
 },
 "nbformat": 4,
 "nbformat_minor": 5
}
